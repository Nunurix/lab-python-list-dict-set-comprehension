{
 "cells": [
  {
   "cell_type": "markdown",
   "id": "25d7736c-ba17-4aff-b6bb-66eba20fbf4e",
   "metadata": {},
   "source": [
    "# Lab | List, Dict and Set Comprehension"
   ]
  },
  {
   "cell_type": "markdown",
   "id": "7dd3cbde-675a-4b81-92c3-f728846dbe06",
   "metadata": {},
   "source": [
    "## Exercise: Managing Customer Orders Optimized with Comprehension"
   ]
  },
  {
   "cell_type": "markdown",
   "id": "5d500160-2fb7-4777-b5e4-09d45ebaf328",
   "metadata": {},
   "source": [
    "In the previous exercise, you developed a program to manage customer orders and inventory. Now, let's take it a step further and incorporate comprehension into your code.\n",
    "\n",
    "Follow the steps below to complete the exercise:\n",
    "\n",
    "1. Review your code from the previous exercise and identify areas where you can apply comprehension to simplify and streamline your code. \n",
    "\n",
    "    - *Hint: Apply it to initialize inventory, updating the inventory and printing the updated inventory.*\n",
    "    \n",
    "    - For example, in initializing the inventory, we could have:\n",
    "    \n",
    "        ```python\n",
    "        def initialize_inventory(products):\n",
    "            inventory = {product: int(input(f\"Enter the quantity of {product}s available: \")) for product in products}\n",
    "            return inventory\n",
    "\n",
    "        ```\n",
    "<br>\n",
    "    \n",
    "    \n",
    "2. Modify the function get_customer_orders so it prompts the user to enter the number of customer orders and gathers the product names using a loop and user input. Use comprehension.\n",
    "\n",
    "3. Add a new function to calculate the total price of the customer order. For each product in customer_orders, prompt the user to enter the price of that product. Use comprehension to calculate the total price. Note: assume that the user can only have 1 unit of each product.\n",
    "\n",
    "4. Modify the update_inventory function to remove the product from the inventory if its quantity becomes zero after fulfilling the customer orders. Use comprehension to filter out the products with a quantity of zero from the inventory.\n",
    "\n",
    "5. Print the total price of the customer order.\n",
    "\n",
    "Your code should produce output similar to the following:\n",
    "\n",
    "```python\n",
    "Enter the quantity of t-shirts available:  5\n",
    "Enter the quantity of mugs available:  4\n",
    "Enter the quantity of hats available:  3\n",
    "Enter the quantity of books available:  2\n",
    "Enter the quantity of keychains available:  1\n",
    "Enter the number of customer orders:  2\n",
    "Enter the name of a product that a customer wants to order:  hat\n",
    "Enter the name of a product that a customer wants to order:  keychain\n",
    "\n",
    "Order Statistics:\n",
    "Total Products Ordered: 2\n",
    "Percentage of Unique Products Ordered: 40.0\n",
    "\n",
    "Updated Inventory:\n",
    "t-shirt: 5\n",
    "mug: 4\n",
    "hat: 2\n",
    "book: 2\n",
    "Enter the price of keychain:  5\n",
    "Enter the price of hat:  10\n",
    "Total Price: 15.0\n",
    "\n",
    "```\n"
   ]
  },
  {
   "cell_type": "code",
   "execution_count": 70,
   "id": "7f433ce0",
   "metadata": {},
   "outputs": [],
   "source": [
    "# 1. Review your code from the previous exercise and identify areas where you can apply comprehension to simplify and streamline your code. \n",
    "\n",
    "def initialize_inventory(products):\n",
    "    return {product: int(input(f\"Introduce cantidad de {product}\")) for product in products}\n",
    "#print(initialize_inventory ((\"t-shirt\", \"mug\", \"hat\", \"book\", \"keychain\")))\n"
   ]
  },
  {
   "cell_type": "code",
   "execution_count": 71,
   "id": "e30d3602",
   "metadata": {},
   "outputs": [],
   "source": [
    "# 2. Modify the function get_customer_orders so it prompts the user to enter the number of customer orders and gathers the product names using a loop and user input. Use comprehension.\n",
    "\n",
    "def get_customer_orders():\n",
    "    total_num_orders=int(input(\"Introduce el número total de productos:\"))\n",
    "    return [input(\"Introduce el nombre del producto a comprar: \") for product in range(total_num_orders)]\n",
    "#print(get_customer_orders())"
   ]
  },
  {
   "cell_type": "code",
   "execution_count": 72,
   "id": "466a52c4",
   "metadata": {},
   "outputs": [],
   "source": [
    "# 3. Add a new function to calculate the total price of the customer order. For each product in customer_orders, prompt the user to enter the price of that product. Use comprehension to calculate the total price. Note: assume that the user can only have 1 unit of each product.\n",
    "\n",
    "def get_total_price(customer_orders):\n",
    "    return sum([float(input(f\"Introduce el precio de {product}: \")) for product in customer_orders])\n",
    "\n",
    "#print(\"Precio total: \", get_total_price([\"t-shirt\", \"mug\", \"hat\", \"book\", \"keychain\"]))\n"
   ]
  },
  {
   "cell_type": "code",
   "execution_count": 73,
   "id": "94476c95",
   "metadata": {},
   "outputs": [],
   "source": [
    "# 4. Modify the update_inventory function to remove the product from the inventory if its quantity becomes zero after fulfilling the customer orders. Use comprehension to filter out the products with a quantity of zero from the inventory.\n",
    "\n",
    "def update_inventory (customer_orders, inventory):\n",
    "    return {k: v for k, v in {**inventory, **{item: inventory[item]-1 for item in inventory if item in customer_orders}}.items() if v != 0}\n",
    "\n",
    "#print (update_inventory([\"mug\", \"hat\"], {'t-shirt': 30, 'mug': 1, 'hat': 90, 'book': 100, 'keychain': 20}))"
   ]
  },
  {
   "cell_type": "code",
   "execution_count": 74,
   "id": "ef14d987",
   "metadata": {},
   "outputs": [
    {
     "name": "stdout",
     "output_type": "stream",
     "text": [
      "El total de productos ordenados es: 2\n",
      "El porcentaje de productos únicos ordenados es: 40.0\n",
      "Tienes 5 t-shirt en tu inventario\n",
      "Tienes 4 mug en tu inventario\n",
      "Tienes 2 hat en tu inventario\n",
      "Tienes 2 book en tu inventario\n",
      "Precio total:  15.0\n"
     ]
    }
   ],
   "source": [
    "def calculate_order_statistics (customer_orders,products):\n",
    "    order_statistics={'total':0,'percentage':0}\n",
    "    num_products = 0\n",
    "    num_products_ordered = 0\n",
    "    for product in products:\n",
    "        num_products += 1\n",
    "        if product in customer_orders:\n",
    "            num_products_ordered += 1\n",
    "            order_statistics['total'] += 1\n",
    "    order_statistics['percentage']=100 * num_products_ordered / num_products\n",
    "    return order_statistics\n",
    "\n",
    "# 5. Define a function named `print_order_statistics` that takes `order_statistics` as a parameter. Inside the function, implement the code for printing the order statistics.\n",
    "def print_order_statistics (order_statistics):\n",
    "    total = order_statistics['total']\n",
    "    percentage = order_statistics['percentage']\n",
    "    print (f\"El total de productos ordenados es: {total}\")\n",
    "    print (f\"El porcentaje de productos únicos ordenados es: {percentage}\")\n",
    "\n",
    "# 6. Define a function named `print_updated_inventory` that takes `inventory` as a parameter. Inside the function, implement the code for printing the updated inventory.\n",
    "def print_updated_inventory (inventory):\n",
    "    for product in inventory:\n",
    "        value = inventory[product]\n",
    "        print (f\"Tienes {value} {product} en tu inventario\")\n",
    "\n",
    "products= (\"t-shirt\", \"mug\", \"hat\", \"book\", \"keychain\")\n",
    "\n",
    "inventory = initialize_inventory (products)\n",
    "customer_orders=get_customer_orders ()\n",
    "inventory=update_inventory(customer_orders, inventory)\n",
    "order_statistics= calculate_order_statistics (customer_orders,products)\n",
    "print_order_statistics (order_statistics)\n",
    "print_updated_inventory(inventory)\n",
    "\n",
    "print(\"Precio total: \", get_total_price(customer_orders))"
   ]
  }
 ],
 "metadata": {
  "kernelspec": {
   "display_name": "Python 3 (ipykernel)",
   "language": "python",
   "name": "python3"
  },
  "language_info": {
   "codemirror_mode": {
    "name": "ipython",
    "version": 3
   },
   "file_extension": ".py",
   "mimetype": "text/x-python",
   "name": "python",
   "nbconvert_exporter": "python",
   "pygments_lexer": "ipython3",
   "version": "3.12.4"
  }
 },
 "nbformat": 4,
 "nbformat_minor": 5
}
